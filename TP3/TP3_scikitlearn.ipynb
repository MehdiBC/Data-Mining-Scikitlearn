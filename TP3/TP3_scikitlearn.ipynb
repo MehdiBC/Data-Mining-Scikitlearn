{
 "cells": [
  {
   "cell_type": "markdown",
   "id": "995abf85",
   "metadata": {},
   "source": [
    "# *Apprentissage supervisé: classification*"
   ]
  },
  {
   "cell_type": "markdown",
   "id": "2076bb8e",
   "metadata": {},
   "source": [
    "## *Introduction à la bibliothèque scikitlearn:*\n",
    "**Scikit-learn** est une bibliothèque libre Python destinée à l'apprentissage automatique.\n",
    "Elle propose dans son framework de nombreuses bibliothèques d’algorithmes à implémenter, clé en main. Ces bibliothèques sont à disposition notamment des data scientists.\n",
    "Elle comprend notamment des fonctions pour estimer des forêts aléatoires, des régressions logistiques, des algorithmes de classification, et les machines à vecteurs de support. Elle est conçue pour s'harmoniser avec d'autres bibliothèques libres Python, notamment NumPy et SciPy."
   ]
  },
  {
   "cell_type": "code",
   "execution_count": 1,
   "id": "95e42bd7",
   "metadata": {},
   "outputs": [],
   "source": [
    "from sklearn import datasets\n",
    "irisData = datasets.load_iris()"
   ]
  },
  {
   "cell_type": "markdown",
   "id": "09faf941",
   "metadata": {},
   "source": [
    "**Déscription du dataset iris:**"
   ]
  },
  {
   "cell_type": "code",
   "execution_count": 2,
   "id": "2aa417eb",
   "metadata": {},
   "outputs": [
    {
     "name": "stdout",
     "output_type": "stream",
     "text": [
      ".. _iris_dataset:\n",
      "\n",
      "Iris plants dataset\n",
      "--------------------\n",
      "\n",
      "**Data Set Characteristics:**\n",
      "\n",
      "    :Number of Instances: 150 (50 in each of three classes)\n",
      "    :Number of Attributes: 4 numeric, predictive attributes and the class\n",
      "    :Attribute Information:\n",
      "        - sepal length in cm\n",
      "        - sepal width in cm\n",
      "        - petal length in cm\n",
      "        - petal width in cm\n",
      "        - class:\n",
      "                - Iris-Setosa\n",
      "                - Iris-Versicolour\n",
      "                - Iris-Virginica\n",
      "                \n",
      "    :Summary Statistics:\n",
      "\n",
      "    ============== ==== ==== ======= ===== ====================\n",
      "                    Min  Max   Mean    SD   Class Correlation\n",
      "    ============== ==== ==== ======= ===== ====================\n",
      "    sepal length:   4.3  7.9   5.84   0.83    0.7826\n",
      "    sepal width:    2.0  4.4   3.05   0.43   -0.4194\n",
      "    petal length:   1.0  6.9   3.76   1.76    0.9490  (high!)\n",
      "    petal width:    0.1  2.5   1.20   0.76    0.9565  (high!)\n",
      "    ============== ==== ==== ======= ===== ====================\n",
      "\n",
      "    :Missing Attribute Values: None\n",
      "    :Class Distribution: 33.3% for each of 3 classes.\n",
      "    :Creator: R.A. Fisher\n",
      "    :Donor: Michael Marshall (MARSHALL%PLU@io.arc.nasa.gov)\n",
      "    :Date: July, 1988\n",
      "\n",
      "The famous Iris database, first used by Sir R.A. Fisher. The dataset is taken\n",
      "from Fisher's paper. Note that it's the same as in R, but not as in the UCI\n",
      "Machine Learning Repository, which has two wrong data points.\n",
      "\n",
      "This is perhaps the best known database to be found in the\n",
      "pattern recognition literature.  Fisher's paper is a classic in the field and\n",
      "is referenced frequently to this day.  (See Duda & Hart, for example.)  The\n",
      "data set contains 3 classes of 50 instances each, where each class refers to a\n",
      "type of iris plant.  One class is linearly separable from the other 2; the\n",
      "latter are NOT linearly separable from each other.\n",
      "\n",
      ".. topic:: References\n",
      "\n",
      "   - Fisher, R.A. \"The use of multiple measurements in taxonomic problems\"\n",
      "     Annual Eugenics, 7, Part II, 179-188 (1936); also in \"Contributions to\n",
      "     Mathematical Statistics\" (John Wiley, NY, 1950).\n",
      "   - Duda, R.O., & Hart, P.E. (1973) Pattern Classification and Scene Analysis.\n",
      "     (Q327.D83) John Wiley & Sons.  ISBN 0-471-22361-1.  See page 218.\n",
      "   - Dasarathy, B.V. (1980) \"Nosing Around the Neighborhood: A New System\n",
      "     Structure and Classification Rule for Recognition in Partially Exposed\n",
      "     Environments\".  IEEE Transactions on Pattern Analysis and Machine\n",
      "     Intelligence, Vol. PAMI-2, No. 1, 67-71.\n",
      "   - Gates, G.W. (1972) \"The Reduced Nearest Neighbor Rule\".  IEEE Transactions\n",
      "     on Information Theory, May 1972, 431-433.\n",
      "   - See also: 1988 MLC Proceedings, 54-64.  Cheeseman et al\"s AUTOCLASS II\n",
      "     conceptual clustering system finds 3 classes in the data.\n",
      "   - Many, many more ...\n"
     ]
    }
   ],
   "source": [
    "print (irisData.DESCR)"
   ]
  },
  {
   "cell_type": "code",
   "execution_count": 3,
   "id": "3e3dd32d",
   "metadata": {},
   "outputs": [
    {
     "name": "stdout",
     "output_type": "stream",
     "text": [
      "Feature names: ['sepal length (cm)', 'sepal width (cm)', 'petal length (cm)', 'petal width (cm)']\n",
      "Label names: ['setosa' 'versicolor' 'virginica']\n"
     ]
    }
   ],
   "source": [
    "print ('Feature names:', irisData.feature_names)\n",
    "print ('Label names:', irisData.target_names)"
   ]
  },
  {
   "cell_type": "code",
   "execution_count": 4,
   "id": "18cec7e7",
   "metadata": {},
   "outputs": [
    {
     "name": "stdout",
     "output_type": "stream",
     "text": [
      "Dataset: [[5.1 3.5 1.4 0.2]\n",
      " [4.9 3.  1.4 0.2]\n",
      " [4.7 3.2 1.3 0.2]\n",
      " [4.6 3.1 1.5 0.2]\n",
      " [5.  3.6 1.4 0.2]\n",
      " [5.4 3.9 1.7 0.4]\n",
      " [4.6 3.4 1.4 0.3]\n",
      " [5.  3.4 1.5 0.2]\n",
      " [4.4 2.9 1.4 0.2]\n",
      " [4.9 3.1 1.5 0.1]\n",
      " [5.4 3.7 1.5 0.2]\n",
      " [4.8 3.4 1.6 0.2]\n",
      " [4.8 3.  1.4 0.1]\n",
      " [4.3 3.  1.1 0.1]\n",
      " [5.8 4.  1.2 0.2]\n",
      " [5.7 4.4 1.5 0.4]\n",
      " [5.4 3.9 1.3 0.4]\n",
      " [5.1 3.5 1.4 0.3]\n",
      " [5.7 3.8 1.7 0.3]\n",
      " [5.1 3.8 1.5 0.3]\n",
      " [5.4 3.4 1.7 0.2]\n",
      " [5.1 3.7 1.5 0.4]\n",
      " [4.6 3.6 1.  0.2]\n",
      " [5.1 3.3 1.7 0.5]\n",
      " [4.8 3.4 1.9 0.2]\n",
      " [5.  3.  1.6 0.2]\n",
      " [5.  3.4 1.6 0.4]\n",
      " [5.2 3.5 1.5 0.2]\n",
      " [5.2 3.4 1.4 0.2]\n",
      " [4.7 3.2 1.6 0.2]\n",
      " [4.8 3.1 1.6 0.2]\n",
      " [5.4 3.4 1.5 0.4]\n",
      " [5.2 4.1 1.5 0.1]\n",
      " [5.5 4.2 1.4 0.2]\n",
      " [4.9 3.1 1.5 0.2]\n",
      " [5.  3.2 1.2 0.2]\n",
      " [5.5 3.5 1.3 0.2]\n",
      " [4.9 3.6 1.4 0.1]\n",
      " [4.4 3.  1.3 0.2]\n",
      " [5.1 3.4 1.5 0.2]\n",
      " [5.  3.5 1.3 0.3]\n",
      " [4.5 2.3 1.3 0.3]\n",
      " [4.4 3.2 1.3 0.2]\n",
      " [5.  3.5 1.6 0.6]\n",
      " [5.1 3.8 1.9 0.4]\n",
      " [4.8 3.  1.4 0.3]\n",
      " [5.1 3.8 1.6 0.2]\n",
      " [4.6 3.2 1.4 0.2]\n",
      " [5.3 3.7 1.5 0.2]\n",
      " [5.  3.3 1.4 0.2]\n",
      " [7.  3.2 4.7 1.4]\n",
      " [6.4 3.2 4.5 1.5]\n",
      " [6.9 3.1 4.9 1.5]\n",
      " [5.5 2.3 4.  1.3]\n",
      " [6.5 2.8 4.6 1.5]\n",
      " [5.7 2.8 4.5 1.3]\n",
      " [6.3 3.3 4.7 1.6]\n",
      " [4.9 2.4 3.3 1. ]\n",
      " [6.6 2.9 4.6 1.3]\n",
      " [5.2 2.7 3.9 1.4]\n",
      " [5.  2.  3.5 1. ]\n",
      " [5.9 3.  4.2 1.5]\n",
      " [6.  2.2 4.  1. ]\n",
      " [6.1 2.9 4.7 1.4]\n",
      " [5.6 2.9 3.6 1.3]\n",
      " [6.7 3.1 4.4 1.4]\n",
      " [5.6 3.  4.5 1.5]\n",
      " [5.8 2.7 4.1 1. ]\n",
      " [6.2 2.2 4.5 1.5]\n",
      " [5.6 2.5 3.9 1.1]\n",
      " [5.9 3.2 4.8 1.8]\n",
      " [6.1 2.8 4.  1.3]\n",
      " [6.3 2.5 4.9 1.5]\n",
      " [6.1 2.8 4.7 1.2]\n",
      " [6.4 2.9 4.3 1.3]\n",
      " [6.6 3.  4.4 1.4]\n",
      " [6.8 2.8 4.8 1.4]\n",
      " [6.7 3.  5.  1.7]\n",
      " [6.  2.9 4.5 1.5]\n",
      " [5.7 2.6 3.5 1. ]\n",
      " [5.5 2.4 3.8 1.1]\n",
      " [5.5 2.4 3.7 1. ]\n",
      " [5.8 2.7 3.9 1.2]\n",
      " [6.  2.7 5.1 1.6]\n",
      " [5.4 3.  4.5 1.5]\n",
      " [6.  3.4 4.5 1.6]\n",
      " [6.7 3.1 4.7 1.5]\n",
      " [6.3 2.3 4.4 1.3]\n",
      " [5.6 3.  4.1 1.3]\n",
      " [5.5 2.5 4.  1.3]\n",
      " [5.5 2.6 4.4 1.2]\n",
      " [6.1 3.  4.6 1.4]\n",
      " [5.8 2.6 4.  1.2]\n",
      " [5.  2.3 3.3 1. ]\n",
      " [5.6 2.7 4.2 1.3]\n",
      " [5.7 3.  4.2 1.2]\n",
      " [5.7 2.9 4.2 1.3]\n",
      " [6.2 2.9 4.3 1.3]\n",
      " [5.1 2.5 3.  1.1]\n",
      " [5.7 2.8 4.1 1.3]\n",
      " [6.3 3.3 6.  2.5]\n",
      " [5.8 2.7 5.1 1.9]\n",
      " [7.1 3.  5.9 2.1]\n",
      " [6.3 2.9 5.6 1.8]\n",
      " [6.5 3.  5.8 2.2]\n",
      " [7.6 3.  6.6 2.1]\n",
      " [4.9 2.5 4.5 1.7]\n",
      " [7.3 2.9 6.3 1.8]\n",
      " [6.7 2.5 5.8 1.8]\n",
      " [7.2 3.6 6.1 2.5]\n",
      " [6.5 3.2 5.1 2. ]\n",
      " [6.4 2.7 5.3 1.9]\n",
      " [6.8 3.  5.5 2.1]\n",
      " [5.7 2.5 5.  2. ]\n",
      " [5.8 2.8 5.1 2.4]\n",
      " [6.4 3.2 5.3 2.3]\n",
      " [6.5 3.  5.5 1.8]\n",
      " [7.7 3.8 6.7 2.2]\n",
      " [7.7 2.6 6.9 2.3]\n",
      " [6.  2.2 5.  1.5]\n",
      " [6.9 3.2 5.7 2.3]\n",
      " [5.6 2.8 4.9 2. ]\n",
      " [7.7 2.8 6.7 2. ]\n",
      " [6.3 2.7 4.9 1.8]\n",
      " [6.7 3.3 5.7 2.1]\n",
      " [7.2 3.2 6.  1.8]\n",
      " [6.2 2.8 4.8 1.8]\n",
      " [6.1 3.  4.9 1.8]\n",
      " [6.4 2.8 5.6 2.1]\n",
      " [7.2 3.  5.8 1.6]\n",
      " [7.4 2.8 6.1 1.9]\n",
      " [7.9 3.8 6.4 2. ]\n",
      " [6.4 2.8 5.6 2.2]\n",
      " [6.3 2.8 5.1 1.5]\n",
      " [6.1 2.6 5.6 1.4]\n",
      " [7.7 3.  6.1 2.3]\n",
      " [6.3 3.4 5.6 2.4]\n",
      " [6.4 3.1 5.5 1.8]\n",
      " [6.  3.  4.8 1.8]\n",
      " [6.9 3.1 5.4 2.1]\n",
      " [6.7 3.1 5.6 2.4]\n",
      " [6.9 3.1 5.1 2.3]\n",
      " [5.8 2.7 5.1 1.9]\n",
      " [6.8 3.2 5.9 2.3]\n",
      " [6.7 3.3 5.7 2.5]\n",
      " [6.7 3.  5.2 2.3]\n",
      " [6.3 2.5 5.  1.9]\n",
      " [6.5 3.  5.2 2. ]\n",
      " [6.2 3.4 5.4 2.3]\n",
      " [5.9 3.  5.1 1.8]]\n",
      "Labels: [0 0 0 0 0 0 0 0 0 0 0 0 0 0 0 0 0 0 0 0 0 0 0 0 0 0 0 0 0 0 0 0 0 0 0 0 0\n",
      " 0 0 0 0 0 0 0 0 0 0 0 0 0 1 1 1 1 1 1 1 1 1 1 1 1 1 1 1 1 1 1 1 1 1 1 1 1\n",
      " 1 1 1 1 1 1 1 1 1 1 1 1 1 1 1 1 1 1 1 1 1 1 1 1 1 1 2 2 2 2 2 2 2 2 2 2 2\n",
      " 2 2 2 2 2 2 2 2 2 2 2 2 2 2 2 2 2 2 2 2 2 2 2 2 2 2 2 2 2 2 2 2 2 2 2 2 2\n",
      " 2 2]\n"
     ]
    }
   ],
   "source": [
    "print ('Dataset:', irisData.data)\n",
    "print ('Labels:', irisData.target)"
   ]
  },
  {
   "cell_type": "markdown",
   "id": "81934dad",
   "metadata": {},
   "source": [
    "## *Analyse du dataset:*\n",
    "**Pandas** est une bibliothèque permettant la manipulation et l'analyse des données. Elle propose en particulier des structures de données et des opérations de manipulation de tableaux numériques et de séries temporelles."
   ]
  },
  {
   "cell_type": "code",
   "execution_count": 5,
   "id": "66fc52c2",
   "metadata": {},
   "outputs": [
    {
     "data": {
      "text/html": [
       "<div>\n",
       "<style scoped>\n",
       "    .dataframe tbody tr th:only-of-type {\n",
       "        vertical-align: middle;\n",
       "    }\n",
       "\n",
       "    .dataframe tbody tr th {\n",
       "        vertical-align: top;\n",
       "    }\n",
       "\n",
       "    .dataframe thead th {\n",
       "        text-align: right;\n",
       "    }\n",
       "</style>\n",
       "<table border=\"1\" class=\"dataframe\">\n",
       "  <thead>\n",
       "    <tr style=\"text-align: right;\">\n",
       "      <th></th>\n",
       "      <th>sepal length (cm)</th>\n",
       "      <th>sepal width (cm)</th>\n",
       "      <th>petal length (cm)</th>\n",
       "      <th>petal width (cm)</th>\n",
       "      <th>class</th>\n",
       "    </tr>\n",
       "  </thead>\n",
       "  <tbody>\n",
       "    <tr>\n",
       "      <th>1</th>\n",
       "      <td>5.1</td>\n",
       "      <td>3.5</td>\n",
       "      <td>1.4</td>\n",
       "      <td>0.2</td>\n",
       "      <td>setosa</td>\n",
       "    </tr>\n",
       "    <tr>\n",
       "      <th>2</th>\n",
       "      <td>4.9</td>\n",
       "      <td>3.0</td>\n",
       "      <td>1.4</td>\n",
       "      <td>0.2</td>\n",
       "      <td>setosa</td>\n",
       "    </tr>\n",
       "    <tr>\n",
       "      <th>3</th>\n",
       "      <td>4.7</td>\n",
       "      <td>3.2</td>\n",
       "      <td>1.3</td>\n",
       "      <td>0.2</td>\n",
       "      <td>setosa</td>\n",
       "    </tr>\n",
       "    <tr>\n",
       "      <th>4</th>\n",
       "      <td>4.6</td>\n",
       "      <td>3.1</td>\n",
       "      <td>1.5</td>\n",
       "      <td>0.2</td>\n",
       "      <td>setosa</td>\n",
       "    </tr>\n",
       "    <tr>\n",
       "      <th>5</th>\n",
       "      <td>5.0</td>\n",
       "      <td>3.6</td>\n",
       "      <td>1.4</td>\n",
       "      <td>0.2</td>\n",
       "      <td>setosa</td>\n",
       "    </tr>\n",
       "    <tr>\n",
       "      <th>...</th>\n",
       "      <td>...</td>\n",
       "      <td>...</td>\n",
       "      <td>...</td>\n",
       "      <td>...</td>\n",
       "      <td>...</td>\n",
       "    </tr>\n",
       "    <tr>\n",
       "      <th>146</th>\n",
       "      <td>6.7</td>\n",
       "      <td>3.0</td>\n",
       "      <td>5.2</td>\n",
       "      <td>2.3</td>\n",
       "      <td>virginica</td>\n",
       "    </tr>\n",
       "    <tr>\n",
       "      <th>147</th>\n",
       "      <td>6.3</td>\n",
       "      <td>2.5</td>\n",
       "      <td>5.0</td>\n",
       "      <td>1.9</td>\n",
       "      <td>virginica</td>\n",
       "    </tr>\n",
       "    <tr>\n",
       "      <th>148</th>\n",
       "      <td>6.5</td>\n",
       "      <td>3.0</td>\n",
       "      <td>5.2</td>\n",
       "      <td>2.0</td>\n",
       "      <td>virginica</td>\n",
       "    </tr>\n",
       "    <tr>\n",
       "      <th>149</th>\n",
       "      <td>6.2</td>\n",
       "      <td>3.4</td>\n",
       "      <td>5.4</td>\n",
       "      <td>2.3</td>\n",
       "      <td>virginica</td>\n",
       "    </tr>\n",
       "    <tr>\n",
       "      <th>150</th>\n",
       "      <td>5.9</td>\n",
       "      <td>3.0</td>\n",
       "      <td>5.1</td>\n",
       "      <td>1.8</td>\n",
       "      <td>virginica</td>\n",
       "    </tr>\n",
       "  </tbody>\n",
       "</table>\n",
       "<p>150 rows × 5 columns</p>\n",
       "</div>"
      ],
      "text/plain": [
       "     sepal length (cm)  sepal width (cm)  petal length (cm)  petal width (cm)  \\\n",
       "1                  5.1               3.5                1.4               0.2   \n",
       "2                  4.9               3.0                1.4               0.2   \n",
       "3                  4.7               3.2                1.3               0.2   \n",
       "4                  4.6               3.1                1.5               0.2   \n",
       "5                  5.0               3.6                1.4               0.2   \n",
       "..                 ...               ...                ...               ...   \n",
       "146                6.7               3.0                5.2               2.3   \n",
       "147                6.3               2.5                5.0               1.9   \n",
       "148                6.5               3.0                5.2               2.0   \n",
       "149                6.2               3.4                5.4               2.3   \n",
       "150                5.9               3.0                5.1               1.8   \n",
       "\n",
       "         class  \n",
       "1       setosa  \n",
       "2       setosa  \n",
       "3       setosa  \n",
       "4       setosa  \n",
       "5       setosa  \n",
       "..         ...  \n",
       "146  virginica  \n",
       "147  virginica  \n",
       "148  virginica  \n",
       "149  virginica  \n",
       "150  virginica  \n",
       "\n",
       "[150 rows x 5 columns]"
      ]
     },
     "metadata": {},
     "output_type": "display_data"
    }
   ],
   "source": [
    "from IPython.display import display\n",
    "import pandas as pd\n",
    "\n",
    "data = []\n",
    "for i in range(len(irisData.data)):\n",
    "    data.append(list(irisData.data[i]))\n",
    "    data[i].extend([irisData.target_names[irisData.target[i]]])\n",
    "    \n",
    "columns = list(irisData.feature_names)\n",
    "columns.extend(['class'])\n",
    "\n",
    "df = pd.DataFrame(data, index=range(1, len(data)+1), columns=columns)\n",
    "display(df)"
   ]
  },
  {
   "cell_type": "markdown",
   "id": "2bbf1e62",
   "metadata": {},
   "source": [
    "**Répartition des données dans les tableaux:**"
   ]
  },
  {
   "cell_type": "markdown",
   "id": "53819564",
   "metadata": {},
   "source": [
    "- le dataset contient 3 classes de 50 instances.\n",
    "- le dataset contient 150 instances avec 4 attributs."
   ]
  },
  {
   "cell_type": "code",
   "execution_count": 6,
   "id": "3ca617c7",
   "metadata": {},
   "outputs": [
    {
     "name": "stdout",
     "output_type": "stream",
     "text": [
      "(150, 4)\n"
     ]
    }
   ],
   "source": [
    "print (irisData.data.shape)"
   ]
  },
  {
   "cell_type": "markdown",
   "id": "b16a55fe",
   "metadata": {},
   "source": [
    "**32eme élément de l'échantillon:**"
   ]
  },
  {
   "cell_type": "code",
   "execution_count": 7,
   "id": "3fa63876",
   "metadata": {},
   "outputs": [
    {
     "name": "stdout",
     "output_type": "stream",
     "text": [
      "premiere methode: \n",
      "\n",
      "sepal length (cm)       5.4\n",
      "sepal width (cm)        3.4\n",
      "petal length (cm)       1.5\n",
      "petal width (cm)        0.4\n",
      "class                setosa\n",
      "Name: 32, dtype: object \n",
      "\n",
      "deuxieme methode:\n"
     ]
    },
    {
     "data": {
      "text/html": [
       "<div>\n",
       "<style scoped>\n",
       "    .dataframe tbody tr th:only-of-type {\n",
       "        vertical-align: middle;\n",
       "    }\n",
       "\n",
       "    .dataframe tbody tr th {\n",
       "        vertical-align: top;\n",
       "    }\n",
       "\n",
       "    .dataframe thead th {\n",
       "        text-align: right;\n",
       "    }\n",
       "</style>\n",
       "<table border=\"1\" class=\"dataframe\">\n",
       "  <thead>\n",
       "    <tr style=\"text-align: right;\">\n",
       "      <th></th>\n",
       "      <th>sepal length (cm)</th>\n",
       "      <th>sepal width (cm)</th>\n",
       "      <th>petal length (cm)</th>\n",
       "      <th>petal width (cm)</th>\n",
       "      <th>class</th>\n",
       "    </tr>\n",
       "  </thead>\n",
       "  <tbody>\n",
       "    <tr>\n",
       "      <th>32</th>\n",
       "      <td>5.4</td>\n",
       "      <td>3.4</td>\n",
       "      <td>1.5</td>\n",
       "      <td>0.4</td>\n",
       "      <td>setosa</td>\n",
       "    </tr>\n",
       "  </tbody>\n",
       "</table>\n",
       "</div>"
      ],
      "text/plain": [
       "    sepal length (cm)  sepal width (cm)  petal length (cm)  petal width (cm)  \\\n",
       "32                5.4               3.4                1.5               0.4   \n",
       "\n",
       "     class  \n",
       "32  setosa  "
      ]
     },
     "metadata": {},
     "output_type": "display_data"
    }
   ],
   "source": [
    "print(f'premiere methode: \\n')\n",
    "print(df.loc[32], '\\n')\n",
    "print(f'deuxieme methode:')\n",
    "data = list(irisData.data[31])\n",
    "data.extend([irisData.target_names[irisData.target[31]]])\n",
    "\n",
    "features = list(irisData.feature_names)\n",
    "features.extend(['class'])\n",
    "\n",
    "df = pd.DataFrame([data], index=[32], columns=features)\n",
    "display(df)"
   ]
  },
  {
   "cell_type": "code",
   "execution_count": 8,
   "id": "62adcc50",
   "metadata": {},
   "outputs": [
    {
     "name": "stdout",
     "output_type": "stream",
     "text": [
      "Number of instances for class setosa: 50\n",
      "Number of instances for class versicolor: 50\n",
      "Number of instances for class virginica: 50\n"
     ]
    }
   ],
   "source": [
    "for target_index in range(len(irisData.target_names)):\n",
    "    print (f'Number of instances for class {irisData.target_names[target_index]}:', len(irisData.target[irisData.target==target_index]))"
   ]
  },
  {
   "cell_type": "markdown",
   "id": "6e22b89b",
   "metadata": {},
   "source": [
    "## *Visualisation:*"
   ]
  },
  {
   "cell_type": "markdown",
   "id": "9fc67349",
   "metadata": {},
   "source": [
    "**Matplotlib** est une bibliothèque du langage de programmation Python destinée à tracer et visualiser des données sous formes de graphiques. "
   ]
  },
  {
   "cell_type": "code",
   "execution_count": 9,
   "id": "5f826427",
   "metadata": {},
   "outputs": [],
   "source": [
    "import matplotlib\n",
    "import pylab as pl\n",
    "from itertools import cycle"
   ]
  },
  {
   "cell_type": "code",
   "execution_count": 10,
   "id": "e5b3fa9a",
   "metadata": {},
   "outputs": [],
   "source": [
    "def plot_2D(data, target, target_names):\n",
    "    colors = cycle('rgb') # cycle de couleurs\n",
    "    target_ids = range(len(target_names))\n",
    "    \n",
    "    pl.figure()\n",
    "    for i, c, label in zip(target_ids, colors, target_names):\n",
    "        pl.scatter(data[target == i, 2], data[target == i, 3], c=c, label=label)\n",
    "    pl.plot([2.5,2.5],[0,2.5], c='r') # droite qui sépare setosa et les autres classes\n",
    "    pl.legend()\n",
    "    pl.show()"
   ]
  },
  {
   "cell_type": "code",
   "execution_count": 11,
   "id": "5ce1c912",
   "metadata": {},
   "outputs": [
    {
     "data": {
      "image/png": "[encoded data removed]",
      "text/plain": [
       "<Figure size 432x288 with 1 Axes>"
      ]
     },
     "metadata": {
      "needs_background": "light"
     },
     "output_type": "display_data"
    }
   ],
   "source": [
    "plot_2D(irisData.data, irisData.target, irisData.target_names)"
   ]
  },
  {
   "cell_type": "markdown",
   "id": "8942d7fa",
   "metadata": {},
   "source": [
    "## *Apprentissage de classifieur:*\n",
    "**(Par naive bayes)**"
   ]
  },
  {
   "cell_type": "code",
   "execution_count": 12,
   "id": "7a88c93c",
   "metadata": {},
   "outputs": [],
   "source": [
    "from sklearn import naive_bayes"
   ]
  },
  {
   "cell_type": "code",
   "execution_count": 13,
   "id": "493a9f50",
   "metadata": {},
   "outputs": [
    {
     "name": "stdout",
     "output_type": "stream",
     "text": [
      "0 [0]\n",
      "2 [2]\n",
      "Prediction results [0 0 0 0 0 0 0 0 0 0 0 0 0 0 0 0 0 0 0 0 0 0 0 0 0 0 0 0 0 0 0 0 0 0 0 0 0\n",
      " 0 0 0 0 0 0 0 0 0 0 0 0 0 1 1 1 1 1 1 1 1 1 1 1 1 1 1 1 1 1 1 2 1 2 1 2 1\n",
      " 1 1 1 1 1 1 1 1 1 2 1 1 1 1 1 1 1 1 1 1 1 1 1 1 1 1 2 2 2 2 2 2 2 2 2 2 2\n",
      " 2 2 2 2 2 2 2 2 2 2 2 2 2 2 2 2 2 2 1 2 1 2 1 2 2 2 2 2 2 2 2 2 2 2 2 2 2\n",
      " 2 2]\n",
      "Actual results [0 0 0 0 0 0 0 0 0 0 0 0 0 0 0 0 0 0 0 0 0 0 0 0 0 0 0 0 0 0 0 0 0 0 0 0 0\n",
      " 0 0 0 0 0 0 0 0 0 0 0 0 0 1 1 1 1 1 1 1 1 1 1 1 1 1 1 1 1 1 1 1 1 1 1 1 1\n",
      " 1 1 1 1 1 1 1 1 1 1 1 1 1 1 1 1 1 1 1 1 1 1 1 1 1 1 2 2 2 2 2 2 2 2 2 2 2\n",
      " 2 2 2 2 2 2 2 2 2 2 2 2 2 2 2 2 2 2 2 2 2 2 2 2 2 2 2 2 2 2 2 2 2 2 2 2 2\n",
      " 2 2]\n"
     ]
    }
   ],
   "source": [
    "# Initialisation du classifieur\n",
    "nb = naive_bayes.MultinomialNB(fit_prior=True)\n",
    "# Apprentissage\n",
    "nb.fit(irisData.data[:], irisData.target[:])\n",
    "# Prédiction\n",
    "p31 = nb.predict([irisData.data[31]])\n",
    "print(irisData.target[31], p31)\n",
    "plast = nb.predict([irisData.data[-1]])\n",
    "print(irisData.target[-1], plast)\n",
    "predicted_results = nb.predict(irisData.data[:])\n",
    "print(\"Prediction results\", predicted_results)\n",
    "print(\"Actual results\", irisData.target)"
   ]
  },
  {
   "cell_type": "markdown",
   "id": "2d97b12d",
   "metadata": {},
   "source": [
    "#### *Analyse*:\n",
    "Quelque resultat predite de la classe 1 sont differentes des valeurs actuelles, ce qui montre qu'il n'y a pas de surapprentissage. Les classes 0 sont bien predite puisque d'apres la visualisation on remarque que la classe 0 est bien distinguable des autres classes donc il y a un bon apprentissage."
   ]
  },
  {
   "cell_type": "markdown",
   "id": "b8661f8f",
   "metadata": {},
   "source": [
    "### *Division en Training et Testing dataset:*"
   ]
  },
  {
   "cell_type": "code",
   "execution_count": 14,
   "id": "53ab6cc2",
   "metadata": {},
   "outputs": [
    {
     "name": "stdout",
     "output_type": "stream",
     "text": [
      "Prediction results [1 1 1 1 1 1 1 1 1 1 1 1 1 1 1 1 1 1 1 1 1 1 1 1 1 1 1 1 1 1 1 1 1 1 1 1 1\n",
      " 1 1 1 1 1 1 1 1 1 1 1 1]\n",
      "Actual results [2 2 2 2 2 2 2 2 2 2 2 2 2 2 2 2 2 2 2 2 2 2 2 2 2 2 2 2 2 2 2 2 2 2 2 2 2\n",
      " 2 2 2 2 2 2 2 2 2 2 2 2]\n"
     ]
    }
   ],
   "source": [
    "nb = naive_bayes.MultinomialNB(fit_prior=True)\n",
    "\n",
    "nb.fit(irisData.data[:99], irisData.target[:99])\n",
    "# Prédire sur les données restantes\n",
    "prediction_result = nb.predict(irisData.data[100:149])\n",
    "\n",
    "print(\"Prediction results\", prediction_result)\n",
    "print(\"Actual results\", irisData.target[100:149])"
   ]
  },
  {
   "cell_type": "markdown",
   "id": "0ff2ac8e",
   "metadata": {},
   "source": [
    "#### *Analyse:*\n",
    "On remarque une incoerance entre les résultats predites et les données actuelles. En effet, le modèle ne peut pas prédire la classe 2 puisqu'il n'est pas entrainer sur des instances ayant comme target la classe 2. On propose comme solution de faire un shuffle du dataset d'une façon aléatoire et puis de faire l'apprentissage."
   ]
  },
  {
   "cell_type": "code",
   "execution_count": 15,
   "id": "71e01f07",
   "metadata": {},
   "outputs": [
    {
     "name": "stdout",
     "output_type": "stream",
     "text": [
      "Prediction results [0, 2, 2, 2, 2, 0, 0, 2, 0, 2, 2, 0, 0, 2, 2, 0, 2, 2, 2, 2, 2, 2, 2, 2, 0, 2, 2, 0, 2, 2, 0, 2, 0, 0, 0, 2, 2, 2, 0, 2, 0, 2, 0, 0, 2, 2, 2, 2, 2]\n",
      "Actual results [0, 2, 1, 2, 1, 0, 0, 1, 0, 1, 1, 0, 0, 2, 1, 0, 1, 2, 1, 1, 2, 1, 2, 1, 0, 2, 1, 0, 1, 1, 0, 1, 0, 0, 0, 2, 1, 1, 0, 2, 0, 2, 0, 0, 2, 1, 2, 1, 2]\n"
     ]
    }
   ],
   "source": [
    "from random import shuffle\n",
    "\n",
    "nb = naive_bayes.MultinomialNB(fit_prior=True)\n",
    "data = list(zip(irisData.data, irisData.target))\n",
    "\n",
    "shuffle(data)\n",
    "\n",
    "x, y = list(zip(*data))\n",
    "\n",
    "nb.fit(x[:99], y[:99])\n",
    "\n",
    "# Prédire sur les données restantes\n",
    "prediction_result = nb.predict(x[100:149])\n",
    "\n",
    "print(\"Prediction results\", list(prediction_result))\n",
    "print(\"Actual results\", list(y[100:149]))"
   ]
  },
  {
   "cell_type": "markdown",
   "id": "c88b5bd9",
   "metadata": {},
   "source": [
    "## *Evaluation des performances des classifieurs:*\n",
    "### *1- Performance sur l'ensemble d'apprentissage:*"
   ]
  },
  {
   "cell_type": "code",
   "execution_count": 16,
   "id": "8b5cdff7",
   "metadata": {},
   "outputs": [
    {
     "name": "stdout",
     "output_type": "stream",
     "text": [
      "Error using sum function : 0.04666666666666667\n",
      "Error using numpy : 0.04666666666666667\n",
      "Accuracy :  0.9533333333333334\n"
     ]
    }
   ],
   "source": [
    "import numpy as np\n",
    "# Calcule de l'erreur: \n",
    "# Méthode1: somme des inégalités\n",
    "nb.fit(irisData.data[:], irisData.target[:])\n",
    "P = nb.predict(irisData.data[:])\n",
    "Y = irisData.target\n",
    "ea = 0\n",
    "for i in range(len(irisData.data)):\n",
    "    if (P[i] != Y[i]):\n",
    "        ea = ea+1\n",
    "print(\"Error using sum function :\",ea/len(irisData.data))\n",
    "# Méthode2: opérateurs sur les tableaux\n",
    "print(\"Error using numpy :\",np.count_nonzero(P-Y)/len(irisData.data)) # Les valeurs non nulles représente les erreurs commises par le modéle\n",
    "# Méthode3: la méthode .score() du modèle.\n",
    "# Calcule du taux de bonne classification du modèle\n",
    "print(\"Accuracy : \",nb.score(irisData.data,Y))"
   ]
  },
  {
   "cell_type": "markdown",
   "id": "d4d4843a",
   "metadata": {},
   "source": [
    "### *2- Performances en généralisation:*\n",
    "#### *2.1- Estimer l'erreur réelle par division de l'échantillon d'apprentissage:*"
   ]
  },
  {
   "cell_type": "code",
   "execution_count": 17,
   "id": "06dbd85e",
   "metadata": {},
   "outputs": [
    {
     "name": "stdout",
     "output_type": "stream",
     "text": [
      "dataS1 = 100  targetS1 = 100\n",
      "dataS2 = 50  targetS2 = 50\n"
     ]
    }
   ],
   "source": [
    "from random import sample\n",
    "S = list(zip(irisData.data, irisData.target))\n",
    "def split(S):\n",
    "    size_S2 = round(len(S)*(1/3))\n",
    "    indexes_S2 = sample(range(len(S)), k=size_S2)\n",
    "\n",
    "    dataS1 = [S[i][0] for i in range(len(S)) if i not in indexes_S2]\n",
    "    targetS1 = [S[i][1] for i in range(len(S)) if i not in indexes_S2]\n",
    "    dataS2 = [S[i][0] for i in range(len(S)) if i in indexes_S2]\n",
    "    targetS2 = [S[i][1] for i in range(len(S)) if i in indexes_S2]\n",
    "\n",
    "    return [dataS1, targetS1, dataS2, targetS2]\n",
    "\n",
    "#Tester la fonction split sur Iris\n",
    "[dataS1, targetS1, dataS2, targetS2] = split(S)\n",
    "print(f\"dataS1 = {len(dataS1)}  targetS1 = {len(targetS1)}\")\n",
    "print(f\"dataS2 = {len(dataS2)}  targetS2 = {len(targetS2)}\")"
   ]
  },
  {
   "cell_type": "code",
   "execution_count": 18,
   "id": "41721388",
   "metadata": {},
   "outputs": [
    {
     "data": {
      "text/plain": [
       "0.43999999999999995"
      ]
     },
     "execution_count": 18,
     "metadata": {},
     "output_type": "execute_result"
    }
   ],
   "source": [
    "def test(S, clf):\n",
    "    [dataS1, targetS1, dataS2, targetS2] = split(S)\n",
    "    clf.fit(dataS1, targetS1)\n",
    "    return 1-clf.score(dataS2, targetS2)\n",
    "\n",
    "test(S,nb)"
   ]
  },
  {
   "cell_type": "markdown",
   "id": "793b9a57",
   "metadata": {},
   "source": [
    "#### *Analyse:*\n",
    "L'erreur estimée est plus supérieure à l'erreur apparente précédemment calculée \n",
    "\n",
    "Le résultat change à chaque exécution puisqu'on fait un tirage aletoire pour la construction du training set et du testing set"
   ]
  },
  {
   "cell_type": "code",
   "execution_count": 19,
   "id": "9fc94da1",
   "metadata": {},
   "outputs": [
    {
     "name": "stdout",
     "output_type": "stream",
     "text": [
      "t = 10 | erreur moyenne = 0.21599999999999997\n",
      "t = 50 | erreur moyenne = 0.19080000000000003\n",
      "t = 100 | erreur moyenne = 0.21499999999999994\n",
      "t = 200 | erreur moyenne = 0.19560000000000013\n",
      "t = 500 | erreur moyenne = 0.20144000000000017\n",
      "t = 1000 | erreur moyenne = 0.21250000000000008\n"
     ]
    }
   ],
   "source": [
    "def repeat_test(S, clf, t):\n",
    "    result = 0\n",
    "    for i in range(t):\n",
    "        result += test(S, clf)\n",
    "    return result / t\n",
    "\n",
    "for t in [10,50,100,200,500,1000]:\n",
    "    print(f\"t = {t} | erreur moyenne = {repeat_test(S, nb, t)}\")"
   ]
  },
  {
   "cell_type": "code",
   "execution_count": 20,
   "id": "7b84e25d",
   "metadata": {
    "scrolled": true
   },
   "outputs": [
    {
     "name": "stdout",
     "output_type": "stream",
     "text": [
      "t = 10 | 20 fois | erreur moyenne = 0.21280000000000002\n",
      "t = 50 | 20 fois | erreur moyenne = 0.20468000000000006\n",
      "t = 100 | 20 fois | erreur moyenne = 0.20592000000000002\n",
      "t = 200 | 20 fois | erreur moyenne = 0.19744\n",
      "t = 500 | 20 fois | erreur moyenne = 0.20160200000000011\n",
      "t = 1000 | 20 fois | erreur moyenne = 0.20101500000000022\n"
     ]
    }
   ],
   "source": [
    "for t in [10,50,100,200,500,1000]:\n",
    "    moy = 0\n",
    "    for i in range(20):\n",
    "        moy += repeat_test(S, nb, t)\n",
    "    print(f\"t = {t} | 20 fois | erreur moyenne = {moy/20}\")"
   ]
  },
  {
   "cell_type": "markdown",
   "id": "d1a84ce1",
   "metadata": {},
   "source": [
    "#### *Analyse:*\n",
    "L'erreur moyenne devient stable. converge vers le taux réel d'erreur."
   ]
  },
  {
   "cell_type": "code",
   "execution_count": 21,
   "id": "19225caa",
   "metadata": {},
   "outputs": [],
   "source": [
    "def split(S):\n",
    "    size_S2 = round(len(S)*0.1) # Le 10éme de l'échantillon initial\n",
    "    indexes_S2 = sample(range(len(S)),k=size_S2)\n",
    "\n",
    "    dataS1 = [S[i][0] for i in range(len(S)) if i not in indexes_S2]\n",
    "    targetS1 = [S[i][1] for i in range(len(S)) if i not in indexes_S2]\n",
    "    dataS2 = [S[i][0] for i in range(len(S)) if i in indexes_S2]\n",
    "    targetS2 = [S[i][1] for i in range(len(S)) if i in indexes_S2]\n",
    "\n",
    "    return [training_set, target_training, testing_set, target_testing]"
   ]
  },
  {
   "cell_type": "code",
   "execution_count": 22,
   "id": "2792863e",
   "metadata": {},
   "outputs": [
    {
     "name": "stdout",
     "output_type": "stream",
     "text": [
      "Test size= 0.05    Accuracy = 0.875   Taux d'erreur = 0.125\n",
      "Test size= 0.1    Accuracy = 0.8666666666666667   Taux d'erreur = 0.1333333333333333\n",
      "Test size= 0.15000000000000002    Accuracy = 1.0   Taux d'erreur = 0.0\n",
      "Test size= 0.2    Accuracy = 0.9   Taux d'erreur = 0.09999999999999998\n",
      "Test size= 0.25    Accuracy = 0.9736842105263158   Taux d'erreur = 0.02631578947368418\n",
      "Test size= 0.3    Accuracy = 0.6666666666666666   Taux d'erreur = 0.33333333333333337\n",
      "Test size= 0.35000000000000003    Accuracy = 0.9245283018867925   Taux d'erreur = 0.07547169811320753\n",
      "Test size= 0.4    Accuracy = 0.75   Taux d'erreur = 0.25\n",
      "Test size= 0.45    Accuracy = 0.9264705882352942   Taux d'erreur = 0.07352941176470584\n",
      "min_error = 0.0 with test_size = 0.15000000000000002\n",
      "Erreur moyenne = 0.12410928511314048\n"
     ]
    }
   ],
   "source": [
    "from sklearn.model_selection import train_test_split\n",
    "from numpy import arange\n",
    "\n",
    "def test_native(test_size=0.33):\n",
    "    x_train, x_test, y_train, y_test = train_test_split(irisData.data, irisData.target, test_size=test_size)\n",
    "    nb.fit(x_train, y_train)\n",
    "    print(f\"Test size= {test_size}    Accuracy = {nb.score(x_test, y_test)}   Taux d'erreur = {1-nb.score(x_test, y_test)}\")\n",
    "    return 1-nb.score(x_test, y_test)\n",
    "\n",
    "min_error_test_size = None\n",
    "min_error = None\n",
    "avg_error = 0\n",
    "test_sizes = arange(0.05, 0.5, 0.05)\n",
    "for test_size in test_sizes:\n",
    "    error = test_native(test_size)\n",
    "    avg_error += error\n",
    "    if (min_error_test_size is None):\n",
    "        min_error_test_size = test_size\n",
    "        min_error = error\n",
    "    else:\n",
    "        if error < min_error:\n",
    "            min_error = error\n",
    "            min_error_test_size = test_size\n",
    "\n",
    "print(f\"min_error = {min_error} with test_size = {min_error_test_size}\")\n",
    "print(f\"Erreur moyenne = {avg_error/ len(test_sizes)}\")"
   ]
  },
  {
   "cell_type": "markdown",
   "id": "2edbd2b5",
   "metadata": {},
   "source": [
    "#### *2.2- Estimer l'erreur réelle par cross validation:*"
   ]
  },
  {
   "cell_type": "code",
   "execution_count": 32,
   "id": "599fbc4c",
   "metadata": {},
   "outputs": [
    {
     "name": "stdout",
     "output_type": "stream",
     "text": [
      "K= 2 folds | Taux d'erreur: 0.0467 (+/- 0.01)\n",
      "K= 3 folds | Taux d'erreur: 0.0533 (+/- 0.02)\n",
      "K= 5 folds | Taux d'erreur: 0.0467 (+/- 0.05)\n",
      "K= 8 folds | Taux d'erreur: 0.0526 (+/- 0.06)\n",
      "K= 10 folds | Taux d'erreur: 0.0467 (+/- 0.07)\n"
     ]
    }
   ],
   "source": [
    "from sklearn.model_selection import cross_val_score\n",
    "\n",
    "def test_cross_validation(fold):\n",
    "    return cross_val_score(nb, irisData.data, irisData.target, cv=fold)\n",
    "\n",
    "def test_error_calculation(params, fn):\n",
    "    for param in params:\n",
    "        scores = fn(param)\n",
    "        print(\"K= %d folds | Taux d'erreur: %0.4f (+/- %0.2f)\" % (param, 1-scores.mean(), scores.std()))\n",
    "\n",
    "test_error_calculation([2,3,5,8,10], test_cross_validation)"
   ]
  },
  {
   "cell_type": "markdown",
   "id": "4b2fe5aa",
   "metadata": {},
   "source": [
    "## Analyse complète et comparaison"
   ]
  },
  {
   "cell_type": "code",
   "execution_count": 38,
   "id": "2f2a2f7b",
   "metadata": {},
   "outputs": [
    {
     "data": {
      "text/html": [
       "<div>\n",
       "<style scoped>\n",
       "    .dataframe tbody tr th:only-of-type {\n",
       "        vertical-align: middle;\n",
       "    }\n",
       "\n",
       "    .dataframe tbody tr th {\n",
       "        vertical-align: top;\n",
       "    }\n",
       "\n",
       "    .dataframe thead th {\n",
       "        text-align: right;\n",
       "    }\n",
       "</style>\n",
       "<table border=\"1\" class=\"dataframe\">\n",
       "  <thead>\n",
       "    <tr style=\"text-align: right;\">\n",
       "      <th></th>\n",
       "      <th>L'ensemble d'apprentissage</th>\n",
       "      <th>Train Test Split</th>\n",
       "      <th>Cross validation</th>\n",
       "    </tr>\n",
       "  </thead>\n",
       "  <tbody>\n",
       "    <tr>\n",
       "      <th>Naive Bayes</th>\n",
       "      <td>0.046667</td>\n",
       "      <td>0.06</td>\n",
       "      <td>0.046667</td>\n",
       "    </tr>\n",
       "    <tr>\n",
       "      <th>Arbre de décision</th>\n",
       "      <td>0.000000</td>\n",
       "      <td>0.04</td>\n",
       "      <td>0.040000</td>\n",
       "    </tr>\n",
       "    <tr>\n",
       "      <th>Random forest</th>\n",
       "      <td>0.000000</td>\n",
       "      <td>0.04</td>\n",
       "      <td>0.040000</td>\n",
       "    </tr>\n",
       "    <tr>\n",
       "      <th>SVM Classifier</th>\n",
       "      <td>0.026667</td>\n",
       "      <td>0.02</td>\n",
       "      <td>0.033333</td>\n",
       "    </tr>\n",
       "    <tr>\n",
       "      <th>KNN</th>\n",
       "      <td>0.033333</td>\n",
       "      <td>0.10</td>\n",
       "      <td>0.026667</td>\n",
       "    </tr>\n",
       "  </tbody>\n",
       "</table>\n",
       "</div>"
      ],
      "text/plain": [
       "                   L'ensemble d'apprentissage  Train Test Split  \\\n",
       "Naive Bayes                          0.046667              0.06   \n",
       "Arbre de décision                    0.000000              0.04   \n",
       "Random forest                        0.000000              0.04   \n",
       "SVM Classifier                       0.026667              0.02   \n",
       "KNN                                  0.033333              0.10   \n",
       "\n",
       "                   Cross validation  \n",
       "Naive Bayes                0.046667  \n",
       "Arbre de décision          0.040000  \n",
       "Random forest              0.040000  \n",
       "SVM Classifier             0.033333  \n",
       "KNN                        0.026667  "
      ]
     },
     "metadata": {},
     "output_type": "display_data"
    }
   ],
   "source": [
    "from sklearn.naive_bayes import MultinomialNB\n",
    "from sklearn.tree import DecisionTreeClassifier\n",
    "from sklearn.ensemble import RandomForestClassifier\n",
    "from sklearn.svm import SVC\n",
    "from sklearn.neighbors import KNeighborsClassifier\n",
    "\n",
    "# Performances sur l'ensemble d'apprentissage\n",
    "def performance_method1(clf, x, y):\n",
    "    clf.fit(x,y)\n",
    "    return 1 - clf.score(x,y)\n",
    "\n",
    "# Par division de l'échantillon d'apprentissage\n",
    "def performance_method2(clf, x, y):\n",
    "    x_train, x_test, y_train, y_test = train_test_split(x, y, test_size=0.33)\n",
    "    clf.fit(x_train, y_train)\n",
    "    return 1 - clf.score(x_test, y_test)\n",
    "\n",
    "# Par la validation croisée\n",
    "def performance_method3(clf, x, y):\n",
    "    return 1 - cross_val_score(clf, x, y).mean() \n",
    "\n",
    "performances = {\n",
    "  \"L'ensemble d'apprentissage\": performance_method1,\n",
    "  \"Train Test Split\": performance_method2,\n",
    "  \"Cross validation\":performance_method3\n",
    "}\n",
    "\n",
    "classifiers = {\n",
    "    \"Naive Bayes\": MultinomialNB(fit_prior=True),\n",
    "    \"Arbre de décision\": DecisionTreeClassifier(),\n",
    "    \"Random forest\": RandomForestClassifier(),\n",
    "    \"SVM Classifier\": SVC(),\n",
    "    \"KNN\": KNeighborsClassifier(),\n",
    "}\n",
    "\n",
    "def report(x, y):\n",
    "    results = []\n",
    "    for clf_label, clf in classifiers.items():\n",
    "        data = []\n",
    "        for perf_label, performance_fn in performances.items():\n",
    "            data.append(performance_fn(clf, x, y))\n",
    "        results.append(data)\n",
    "    df = pd.DataFrame(results, index=classifiers.keys(), columns=performances.keys())\n",
    "    display(df)\n",
    "\n",
    "report(irisData.data, irisData.target)"
   ]
  },
  {
   "cell_type": "markdown",
   "id": "c92f2b07",
   "metadata": {},
   "source": [
    "On ne peut pas considérer qu'une méthode de classification est meilleure qu'une autre seulement par la comparaison de taux d'erreur. Cela dépend fortement à la nature du dataset. Certains algorithmes sont plus adapté à certains problèmes que d'autres."
   ]
  },
  {
   "cell_type": "code",
   "execution_count": null,
   "id": "a741543c",
   "metadata": {},
   "outputs": [],
   "source": []
  }
 ],
 "metadata": {
  "kernelspec": {
   "display_name": "Python 3 (ipykernel)",
   "language": "python",
   "name": "python3"
  },
  "language_info": {
   "codemirror_mode": {
    "name": "ipython",
    "version": 3
   },
   "file_extension": ".py",
   "mimetype": "text/x-python",
   "name": "python",
   "nbconvert_exporter": "python",
   "pygments_lexer": "ipython3",
   "version": "3.7.11"
  }
 },
 "nbformat": 4,
 "nbformat_minor": 5
}
