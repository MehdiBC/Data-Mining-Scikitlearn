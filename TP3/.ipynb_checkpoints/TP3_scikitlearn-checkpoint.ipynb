{
 "cells": [
  {
   "cell_type": "markdown",
   "id": "2076bb8e",
   "metadata": {},
   "source": [
    "## *Introduction à la bibliothèque scikitlearn:*\n",
    "**Scikit-learn** est une bibliothèque libre Python destinée à l'apprentissage automatique.\n",
    "Elle propose dans son framework de nombreuses bibliothèques d’algorithmes à implémenter, clé en main. Ces bibliothèques sont à disposition notamment des data scientists.\n",
    "Elle comprend notamment des fonctions pour estimer des forêts aléatoires, des régressions logistiques, des algorithmes de classification, et les machines à vecteurs de support. Elle est conçue pour s'harmoniser avec d'autres bibliothèques libres Python, notamment NumPy et SciPy."
   ]
  },
  {
   "cell_type": "code",
   "execution_count": 1,
   "id": "95e42bd7",
   "metadata": {},
   "outputs": [],
   "source": [
    "from sklearn import datasets\n",
    "irisData = datasets.load_iris()"
   ]
  },
  {
   "cell_type": "markdown",
   "id": "09faf941",
   "metadata": {},
   "source": [
    "**Déscription du dataset iris:**"
   ]
  },
  {
   "cell_type": "code",
   "execution_count": 2,
   "id": "2aa417eb",
   "metadata": {},
   "outputs": [
    {
     "name": "stdout",
     "output_type": "stream",
     "text": [
      ".. _iris_dataset:\n",
      "\n",
      "Iris plants dataset\n",
      "--------------------\n",
      "\n",
      "**Data Set Characteristics:**\n",
      "\n",
      "    :Number of Instances: 150 (50 in each of three classes)\n",
      "    :Number of Attributes: 4 numeric, predictive attributes and the class\n",
      "    :Attribute Information:\n",
      "        - sepal length in cm\n",
      "        - sepal width in cm\n",
      "        - petal length in cm\n",
      "        - petal width in cm\n",
      "        - class:\n",
      "                - Iris-Setosa\n",
      "                - Iris-Versicolour\n",
      "                - Iris-Virginica\n",
      "                \n",
      "    :Summary Statistics:\n",
      "\n",
      "    ============== ==== ==== ======= ===== ====================\n",
      "                    Min  Max   Mean    SD   Class Correlation\n",
      "    ============== ==== ==== ======= ===== ====================\n",
      "    sepal length:   4.3  7.9   5.84   0.83    0.7826\n",
      "    sepal width:    2.0  4.4   3.05   0.43   -0.4194\n",
      "    petal length:   1.0  6.9   3.76   1.76    0.9490  (high!)\n",
      "    petal width:    0.1  2.5   1.20   0.76    0.9565  (high!)\n",
      "    ============== ==== ==== ======= ===== ====================\n",
      "\n",
      "    :Missing Attribute Values: None\n",
      "    :Class Distribution: 33.3% for each of 3 classes.\n",
      "    :Creator: R.A. Fisher\n",
      "    :Donor: Michael Marshall (MARSHALL%PLU@io.arc.nasa.gov)\n",
      "    :Date: July, 1988\n",
      "\n",
      "The famous Iris database, first used by Sir R.A. Fisher. The dataset is taken\n",
      "from Fisher's paper. Note that it's the same as in R, but not as in the UCI\n",
      "Machine Learning Repository, which has two wrong data points.\n",
      "\n",
      "This is perhaps the best known database to be found in the\n",
      "pattern recognition literature.  Fisher's paper is a classic in the field and\n",
      "is referenced frequently to this day.  (See Duda & Hart, for example.)  The\n",
      "data set contains 3 classes of 50 instances each, where each class refers to a\n",
      "type of iris plant.  One class is linearly separable from the other 2; the\n",
      "latter are NOT linearly separable from each other.\n",
      "\n",
      ".. topic:: References\n",
      "\n",
      "   - Fisher, R.A. \"The use of multiple measurements in taxonomic problems\"\n",
      "     Annual Eugenics, 7, Part II, 179-188 (1936); also in \"Contributions to\n",
      "     Mathematical Statistics\" (John Wiley, NY, 1950).\n",
      "   - Duda, R.O., & Hart, P.E. (1973) Pattern Classification and Scene Analysis.\n",
      "     (Q327.D83) John Wiley & Sons.  ISBN 0-471-22361-1.  See page 218.\n",
      "   - Dasarathy, B.V. (1980) \"Nosing Around the Neighborhood: A New System\n",
      "     Structure and Classification Rule for Recognition in Partially Exposed\n",
      "     Environments\".  IEEE Transactions on Pattern Analysis and Machine\n",
      "     Intelligence, Vol. PAMI-2, No. 1, 67-71.\n",
      "   - Gates, G.W. (1972) \"The Reduced Nearest Neighbor Rule\".  IEEE Transactions\n",
      "     on Information Theory, May 1972, 431-433.\n",
      "   - See also: 1988 MLC Proceedings, 54-64.  Cheeseman et al\"s AUTOCLASS II\n",
      "     conceptual clustering system finds 3 classes in the data.\n",
      "   - Many, many more ...\n"
     ]
    }
   ],
   "source": [
    "print (irisData.DESCR)"
   ]
  },
  {
   "cell_type": "code",
   "execution_count": 3,
   "id": "3e3dd32d",
   "metadata": {},
   "outputs": [
    {
     "name": "stdout",
     "output_type": "stream",
     "text": [
      "['sepal length (cm)', 'sepal width (cm)', 'petal length (cm)', 'petal width (cm)']\n",
      "['setosa' 'versicolor' 'virginica']\n"
     ]
    }
   ],
   "source": [
    "print (irisData.feature_names)\n",
    "print (irisData.target_names)"
   ]
  },
  {
   "cell_type": "code",
   "execution_count": 4,
   "id": "66fc52c2",
   "metadata": {},
   "outputs": [
    {
     "name": "stdout",
     "output_type": "stream",
     "text": [
      "[[5.1 3.5 1.4 0.2]\n",
      " [4.9 3.  1.4 0.2]\n",
      " [4.7 3.2 1.3 0.2]\n",
      " [4.6 3.1 1.5 0.2]\n",
      " [5.  3.6 1.4 0.2]\n",
      " [5.4 3.9 1.7 0.4]\n",
      " [4.6 3.4 1.4 0.3]\n",
      " [5.  3.4 1.5 0.2]\n",
      " [4.4 2.9 1.4 0.2]\n",
      " [4.9 3.1 1.5 0.1]\n",
      " [5.4 3.7 1.5 0.2]\n",
      " [4.8 3.4 1.6 0.2]\n",
      " [4.8 3.  1.4 0.1]\n",
      " [4.3 3.  1.1 0.1]\n",
      " [5.8 4.  1.2 0.2]\n",
      " [5.7 4.4 1.5 0.4]\n",
      " [5.4 3.9 1.3 0.4]\n",
      " [5.1 3.5 1.4 0.3]\n",
      " [5.7 3.8 1.7 0.3]\n",
      " [5.1 3.8 1.5 0.3]\n",
      " [5.4 3.4 1.7 0.2]\n",
      " [5.1 3.7 1.5 0.4]\n",
      " [4.6 3.6 1.  0.2]\n",
      " [5.1 3.3 1.7 0.5]\n",
      " [4.8 3.4 1.9 0.2]\n",
      " [5.  3.  1.6 0.2]\n",
      " [5.  3.4 1.6 0.4]\n",
      " [5.2 3.5 1.5 0.2]\n",
      " [5.2 3.4 1.4 0.2]\n",
      " [4.7 3.2 1.6 0.2]\n",
      " [4.8 3.1 1.6 0.2]\n",
      " [5.4 3.4 1.5 0.4]\n",
      " [5.2 4.1 1.5 0.1]\n",
      " [5.5 4.2 1.4 0.2]\n",
      " [4.9 3.1 1.5 0.2]\n",
      " [5.  3.2 1.2 0.2]\n",
      " [5.5 3.5 1.3 0.2]\n",
      " [4.9 3.6 1.4 0.1]\n",
      " [4.4 3.  1.3 0.2]\n",
      " [5.1 3.4 1.5 0.2]\n",
      " [5.  3.5 1.3 0.3]\n",
      " [4.5 2.3 1.3 0.3]\n",
      " [4.4 3.2 1.3 0.2]\n",
      " [5.  3.5 1.6 0.6]\n",
      " [5.1 3.8 1.9 0.4]\n",
      " [4.8 3.  1.4 0.3]\n",
      " [5.1 3.8 1.6 0.2]\n",
      " [4.6 3.2 1.4 0.2]\n",
      " [5.3 3.7 1.5 0.2]\n",
      " [5.  3.3 1.4 0.2]\n",
      " [7.  3.2 4.7 1.4]\n",
      " [6.4 3.2 4.5 1.5]\n",
      " [6.9 3.1 4.9 1.5]\n",
      " [5.5 2.3 4.  1.3]\n",
      " [6.5 2.8 4.6 1.5]\n",
      " [5.7 2.8 4.5 1.3]\n",
      " [6.3 3.3 4.7 1.6]\n",
      " [4.9 2.4 3.3 1. ]\n",
      " [6.6 2.9 4.6 1.3]\n",
      " [5.2 2.7 3.9 1.4]\n",
      " [5.  2.  3.5 1. ]\n",
      " [5.9 3.  4.2 1.5]\n",
      " [6.  2.2 4.  1. ]\n",
      " [6.1 2.9 4.7 1.4]\n",
      " [5.6 2.9 3.6 1.3]\n",
      " [6.7 3.1 4.4 1.4]\n",
      " [5.6 3.  4.5 1.5]\n",
      " [5.8 2.7 4.1 1. ]\n",
      " [6.2 2.2 4.5 1.5]\n",
      " [5.6 2.5 3.9 1.1]\n",
      " [5.9 3.2 4.8 1.8]\n",
      " [6.1 2.8 4.  1.3]\n",
      " [6.3 2.5 4.9 1.5]\n",
      " [6.1 2.8 4.7 1.2]\n",
      " [6.4 2.9 4.3 1.3]\n",
      " [6.6 3.  4.4 1.4]\n",
      " [6.8 2.8 4.8 1.4]\n",
      " [6.7 3.  5.  1.7]\n",
      " [6.  2.9 4.5 1.5]\n",
      " [5.7 2.6 3.5 1. ]\n",
      " [5.5 2.4 3.8 1.1]\n",
      " [5.5 2.4 3.7 1. ]\n",
      " [5.8 2.7 3.9 1.2]\n",
      " [6.  2.7 5.1 1.6]\n",
      " [5.4 3.  4.5 1.5]\n",
      " [6.  3.4 4.5 1.6]\n",
      " [6.7 3.1 4.7 1.5]\n",
      " [6.3 2.3 4.4 1.3]\n",
      " [5.6 3.  4.1 1.3]\n",
      " [5.5 2.5 4.  1.3]\n",
      " [5.5 2.6 4.4 1.2]\n",
      " [6.1 3.  4.6 1.4]\n",
      " [5.8 2.6 4.  1.2]\n",
      " [5.  2.3 3.3 1. ]\n",
      " [5.6 2.7 4.2 1.3]\n",
      " [5.7 3.  4.2 1.2]\n",
      " [5.7 2.9 4.2 1.3]\n",
      " [6.2 2.9 4.3 1.3]\n",
      " [5.1 2.5 3.  1.1]\n",
      " [5.7 2.8 4.1 1.3]\n",
      " [6.3 3.3 6.  2.5]\n",
      " [5.8 2.7 5.1 1.9]\n",
      " [7.1 3.  5.9 2.1]\n",
      " [6.3 2.9 5.6 1.8]\n",
      " [6.5 3.  5.8 2.2]\n",
      " [7.6 3.  6.6 2.1]\n",
      " [4.9 2.5 4.5 1.7]\n",
      " [7.3 2.9 6.3 1.8]\n",
      " [6.7 2.5 5.8 1.8]\n",
      " [7.2 3.6 6.1 2.5]\n",
      " [6.5 3.2 5.1 2. ]\n",
      " [6.4 2.7 5.3 1.9]\n",
      " [6.8 3.  5.5 2.1]\n",
      " [5.7 2.5 5.  2. ]\n",
      " [5.8 2.8 5.1 2.4]\n",
      " [6.4 3.2 5.3 2.3]\n",
      " [6.5 3.  5.5 1.8]\n",
      " [7.7 3.8 6.7 2.2]\n",
      " [7.7 2.6 6.9 2.3]\n",
      " [6.  2.2 5.  1.5]\n",
      " [6.9 3.2 5.7 2.3]\n",
      " [5.6 2.8 4.9 2. ]\n",
      " [7.7 2.8 6.7 2. ]\n",
      " [6.3 2.7 4.9 1.8]\n",
      " [6.7 3.3 5.7 2.1]\n",
      " [7.2 3.2 6.  1.8]\n",
      " [6.2 2.8 4.8 1.8]\n",
      " [6.1 3.  4.9 1.8]\n",
      " [6.4 2.8 5.6 2.1]\n",
      " [7.2 3.  5.8 1.6]\n",
      " [7.4 2.8 6.1 1.9]\n",
      " [7.9 3.8 6.4 2. ]\n",
      " [6.4 2.8 5.6 2.2]\n",
      " [6.3 2.8 5.1 1.5]\n",
      " [6.1 2.6 5.6 1.4]\n",
      " [7.7 3.  6.1 2.3]\n",
      " [6.3 3.4 5.6 2.4]\n",
      " [6.4 3.1 5.5 1.8]\n",
      " [6.  3.  4.8 1.8]\n",
      " [6.9 3.1 5.4 2.1]\n",
      " [6.7 3.1 5.6 2.4]\n",
      " [6.9 3.1 5.1 2.3]\n",
      " [5.8 2.7 5.1 1.9]\n",
      " [6.8 3.2 5.9 2.3]\n",
      " [6.7 3.3 5.7 2.5]\n",
      " [6.7 3.  5.2 2.3]\n",
      " [6.3 2.5 5.  1.9]\n",
      " [6.5 3.  5.2 2. ]\n",
      " [6.2 3.4 5.4 2.3]\n",
      " [5.9 3.  5.1 1.8]]\n",
      "[0 0 0 0 0 0 0 0 0 0 0 0 0 0 0 0 0 0 0 0 0 0 0 0 0 0 0 0 0 0 0 0 0 0 0 0 0\n",
      " 0 0 0 0 0 0 0 0 0 0 0 0 0 1 1 1 1 1 1 1 1 1 1 1 1 1 1 1 1 1 1 1 1 1 1 1 1\n",
      " 1 1 1 1 1 1 1 1 1 1 1 1 1 1 1 1 1 1 1 1 1 1 1 1 1 1 2 2 2 2 2 2 2 2 2 2 2\n",
      " 2 2 2 2 2 2 2 2 2 2 2 2 2 2 2 2 2 2 2 2 2 2 2 2 2 2 2 2 2 2 2 2 2 2 2 2 2\n",
      " 2 2]\n"
     ]
    }
   ],
   "source": [
    "print (irisData.data)\n",
    "print (irisData.target)"
   ]
  },
  {
   "cell_type": "markdown",
   "id": "2bbf1e62",
   "metadata": {},
   "source": [
    "**Répartition des données dans les tableaux:**"
   ]
  },
  {
   "cell_type": "markdown",
   "id": "53819564",
   "metadata": {},
   "source": [
    "- le dataset contient 3 classes de 50 instances.\n",
    "- le dataset contient 150 instances avec 4 attributs."
   ]
  },
  {
   "cell_type": "code",
   "execution_count": 5,
   "id": "3ca617c7",
   "metadata": {},
   "outputs": [
    {
     "name": "stdout",
     "output_type": "stream",
     "text": [
      "(150, 4)\n"
     ]
    }
   ],
   "source": [
    "print (irisData.data.shape)"
   ]
  },
  {
   "cell_type": "markdown",
   "id": "b16a55fe",
   "metadata": {},
   "source": [
    "**32eme élément de l'échantillon:**"
   ]
  },
  {
   "cell_type": "code",
   "execution_count": 6,
   "id": "3fa63876",
   "metadata": {},
   "outputs": [
    {
     "name": "stdout",
     "output_type": "stream",
     "text": [
      "Attributes of 32 instance: [5.4 3.4 1.5 0.4]\n",
      "Class of the 32 instance: 0\n"
     ]
    }
   ],
   "source": [
    "print ('Attributes of 32 instance:', irisData.data[31])\n",
    "print ('Class of the 32 instance:', irisData.target[31])"
   ]
  },
  {
   "cell_type": "code",
   "execution_count": 7,
   "id": "62adcc50",
   "metadata": {},
   "outputs": [
    {
     "name": "stdout",
     "output_type": "stream",
     "text": [
      "Number of instances for class setosa: 50\n",
      "Number of instances for class versicolor: 50\n",
      "Number of instances for class virginica: 50\n"
     ]
    }
   ],
   "source": [
    "for target_index in range(len(irisData.target_names)):\n",
    "    print (f'Number of instances for class {irisData.target_names[target_index]}:', len(irisData.target[irisData.target==target_index]))"
   ]
  },
  {
   "cell_type": "markdown",
   "id": "6e22b89b",
   "metadata": {},
   "source": [
    "## *Visualisation:*"
   ]
  },
  {
   "cell_type": "markdown",
   "id": "9fc67349",
   "metadata": {},
   "source": [
    "**Matplotlib** est une bibliothèque du langage de programmation Python destinée à tracer et visualiser des données sous formes de graphiques. "
   ]
  },
  {
   "cell_type": "code",
   "execution_count": 8,
   "id": "5f826427",
   "metadata": {},
   "outputs": [],
   "source": [
    "import matplotlib\n",
    "import pylab as pl\n",
    "from itertools import cycle"
   ]
  },
  {
   "cell_type": "code",
   "execution_count": 38,
   "id": "e5b3fa9a",
   "metadata": {},
   "outputs": [],
   "source": [
    "def plot_2D(data, target, target_names):\n",
    "    colors = cycle('rgb') # cycle de couleurs\n",
    "    target_ids = range(len(target_names))\n",
    "    pl.figure()\n",
    "    for i, c, label in zip(target_ids, colors, target_names):\n",
    "        pl.scatter(data[target == i, 2], data[target == i, 3], c=c, label=label)\n",
    "    pl.plot([2.5,2.5],[0,2.5], c='r') # droite qui sépare stosa et les autres classes\n",
    "    pl.legend()\n",
    "    pl.show()"
   ]
  },
  {
   "cell_type": "code",
   "execution_count": 39,
   "id": "5ce1c912",
   "metadata": {},
   "outputs": [
    {
     "data": {
      "image/png": "[encoded data removed]",
      "text/plain": [
       "<Figure size 432x288 with 1 Axes>"
      ]
     },
     "metadata": {
      "needs_background": "light"
     },
     "output_type": "display_data"
    }
   ],
   "source": [
    "plot_2D(irisData.data, irisData.target, irisData.target_names)"
   ]
  },
  {
   "cell_type": "markdown",
   "id": "8942d7fa",
   "metadata": {},
   "source": [
    "## *Apprentissage de classifieur:*\n",
    "**Par naive bayes**"
   ]
  },
  {
   "cell_type": "code",
   "execution_count": 40,
   "id": "7a88c93c",
   "metadata": {},
   "outputs": [],
   "source": [
    "from sklearn import naive_bayes"
   ]
  },
  {
   "cell_type": "code",
   "execution_count": 42,
   "id": "493a9f50",
   "metadata": {},
   "outputs": [
    {
     "name": "stdout",
     "output_type": "stream",
     "text": [
      "0 [0]\n",
      "2 [2]\n",
      "Prediction results [0 0 0 0 0 0 0 0 0 0 0 0 0 0 0 0 0 0 0 0 0 0 0 0 0 0 0 0 0 0 0 0 0 0 0 0 0\n",
      " 0 0 0 0 0 0 0 0 0 0 0 0 0 1 1 1 1 1 1 1 1 1 1 1 1 1 1 1 1 1 1 2 1 2 1 2 1\n",
      " 1 1 1 1 1 1 1 1 1 2 1 1 1 1 1 1 1 1 1 1 1 1 1 1 1 1 2 2 2 2 2 2 2 2 2 2 2\n",
      " 2 2 2 2 2 2 2 2 2 2 2 2 2 2 2 2 2 2 1 2 1 2 1 2 2 2 2 2 2 2 2 2 2 2 2 2 2\n",
      " 2 2]\n",
      "Actual results [0 0 0 0 0 0 0 0 0 0 0 0 0 0 0 0 0 0 0 0 0 0 0 0 0 0 0 0 0 0 0 0 0 0 0 0 0\n",
      " 0 0 0 0 0 0 0 0 0 0 0 0 0 1 1 1 1 1 1 1 1 1 1 1 1 1 1 1 1 1 1 1 1 1 1 1 1\n",
      " 1 1 1 1 1 1 1 1 1 1 1 1 1 1 1 1 1 1 1 1 1 1 1 1 1 1 2 2 2 2 2 2 2 2 2 2 2\n",
      " 2 2 2 2 2 2 2 2 2 2 2 2 2 2 2 2 2 2 2 2 2 2 2 2 2 2 2 2 2 2 2 2 2 2 2 2 2\n",
      " 2 2]\n"
     ]
    }
   ],
   "source": [
    "# Initialisation du classifieur\n",
    "nb = naive_bayes.MultinomialNB(fit_prior=True)\n",
    "# Apprentissage\n",
    "nb.fit(irisData.data[:], irisData.target[:])\n",
    "# Prédiction\n",
    "p31 = nb.predict([irisData.data[31]])\n",
    "print(irisData.target[31], p31)\n",
    "plast = nb.predict([irisData.data[-1]])\n",
    "print(irisData.target[-1], plast)\n",
    "predicted_results = nb.predict(irisData.data[:])\n",
    "print(\"Prediction results\", predicted_results)\n",
    "print(\"Actual results\", irisData.target)"
   ]
  },
  {
   "cell_type": "markdown",
   "id": "2d97b12d",
   "metadata": {},
   "source": [
    "#### *Analyse*:\n",
    "Quelque resultat predite de la classe 1 sont differentes des valeurs actuelles, ce qui montre qu'il n'y a pas de surapprentissage. Les classes 0 sont bien predite puisque d'apres la visualisation on remarque que la classe 0 est bien distinguable des autres classes donc il y a un bon apprentissage."
   ]
  },
  {
   "cell_type": "markdown",
   "id": "b8661f8f",
   "metadata": {},
   "source": [
    "### *Division en Training et Testing dataset:*"
   ]
  },
  {
   "cell_type": "code",
   "execution_count": 43,
   "id": "53ab6cc2",
   "metadata": {},
   "outputs": [
    {
     "name": "stdout",
     "output_type": "stream",
     "text": [
      "Prediction results [1 1 1 1 1 1 1 1 1 1 1 1 1 1 1 1 1 1 1 1 1 1 1 1 1 1 1 1 1 1 1 1 1 1 1 1 1\n",
      " 1 1 1 1 1 1 1 1 1 1 1 1]\n",
      "Actual results [2 2 2 2 2 2 2 2 2 2 2 2 2 2 2 2 2 2 2 2 2 2 2 2 2 2 2 2 2 2 2 2 2 2 2 2 2\n",
      " 2 2 2 2 2 2 2 2 2 2 2 2]\n"
     ]
    }
   ],
   "source": [
    "nb = naive_bayes.MultinomialNB(fit_prior=True)\n",
    "\n",
    "nb.fit(irisData.data[:99], irisData.target[:99])\n",
    "# Prédire sur les données restantes\n",
    "prediction_result = nb.predict(irisData.data[100:149])\n",
    "\n",
    "print(\"Prediction results\", prediction_result)\n",
    "print(\"Actual results\", irisData.target[100:149])"
   ]
  },
  {
   "cell_type": "markdown",
   "id": "0ff2ac8e",
   "metadata": {},
   "source": [
    "#### *Analyse:*\n",
    "On remarque une incoerance entre les résultats predites et les données actuelles. En effet, le modèle ne peut pas prédire la classe 2 puisqu'il n'est pas entrainer sur des instances ayant comme target la classe 2. On propose comme solution de faire un shuffle du dataset d'une façon aléatoire et puis de faire l'apprentissage."
   ]
  },
  {
   "cell_type": "code",
   "execution_count": 44,
   "id": "71e01f07",
   "metadata": {},
   "outputs": [
    {
     "name": "stdout",
     "output_type": "stream",
     "text": [
      "Prediction  [1, 2, 2, 1, 1, 2, 0, 0, 1, 0, 1, 0, 0, 2, 0, 0, 1, 1, 2, 0, 2, 0, 2, 2, 2, 0, 0, 0, 1, 0, 2, 1, 2, 1, 2, 2, 0, 1, 0, 0, 0, 1, 0, 0, 2, 1, 2, 0, 0]\n",
      "Actual      [1, 2, 2, 1, 1, 2, 0, 0, 1, 0, 1, 0, 0, 2, 0, 0, 1, 1, 2, 0, 2, 0, 2, 2, 2, 0, 0, 0, 1, 0, 2, 1, 2, 1, 1, 2, 0, 1, 0, 0, 0, 1, 0, 0, 2, 1, 2, 0, 0]\n"
     ]
    }
   ],
   "source": [
    "from random import shuffle\n",
    "\n",
    "nb = naive_bayes.MultinomialNB(fit_prior=True)\n",
    "data = list(zip(irisData.data, irisData.target))\n",
    "\n",
    "shuffle(data)\n",
    "X, y = list(zip(*data))\n",
    "\n",
    "nb.fit(X[:99], y[:99])\n",
    "\n",
    "# Prédire sur les données restantes\n",
    "prediction_result = nb.predict(X[100:149])\n",
    "\n",
    "print(\"Prediction \", list(prediction_result))\n",
    "print(\"Actual     \", list(y[100:149]))"
   ]
  },
  {
   "cell_type": "markdown",
   "id": "c88b5bd9",
   "metadata": {},
   "source": [
    "## *Evaluation des performances des classifieurs:*\n",
    "### *1- Performance sur l'ensemble d'apprentissage:*"
   ]
  },
  {
   "cell_type": "code",
   "execution_count": 45,
   "id": "8b5cdff7",
   "metadata": {},
   "outputs": [
    {
     "name": "stdout",
     "output_type": "stream",
     "text": [
      "Error using sum function : 0.04666666666666667\n",
      "Error using numpy : 0.04666666666666667\n",
      "Accuracy :  0.9533333333333334\n"
     ]
    }
   ],
   "source": [
    "import numpy as np\n",
    "# Calculer l'erreur en faisant la somme des inégalités\n",
    "nb.fit(irisData.data[:], irisData.target[:])\n",
    "P = nb.predict(irisData.data[:])\n",
    "Y = irisData.target\n",
    "ea = 0\n",
    "for i in range(len(irisData.data)):\n",
    "    if (P[i] != Y[i]):\n",
    "        ea = ea+1\n",
    "print(\"Error using sum function :\",ea/len(irisData.data))\n",
    "#Les opérateurs sur les tableaux permet d'effectuer ce comptage en une seule instruction. \n",
    "#Les valeurs non nulles représente les erreurs commises par le modéle. Donc on peut utiliser la fonction count_nonzero() du package numpy.\n",
    "print(\"Error using numpy :\",np.count_nonzero(P-Y)/len(irisData.data))\n",
    "#On peut aussi calculer le taux de bonne classification du modèle et le taux d'erreur en utilisant la méthode .score()\n",
    "print(\"Accuracy : \",nb.score(irisData.data,Y))"
   ]
  },
  {
   "cell_type": "markdown",
   "id": "d4d4843a",
   "metadata": {},
   "source": [
    "### *1- Performances en généralisation:*\n",
    "#### *1.1- Estimer l'erreur réelle par division de l'échantillon d'apprentissage:*"
   ]
  },
  {
   "cell_type": "code",
   "execution_count": 51,
   "id": "06dbd85e",
   "metadata": {},
   "outputs": [
    {
     "name": "stdout",
     "output_type": "stream",
     "text": [
      "dataS1 = 100  targetS1 = 100\n",
      "dataS2 = 50  targetS2 = 50\n"
     ]
    }
   ],
   "source": [
    "from random import sample\n",
    "S = list(zip(irisData.data, irisData.target))\n",
    "def split(S):\n",
    "    s2_size = len(S)*0.33\n",
    "    s2_indexes = sample(range(len(S)),k=round(s2_size))\n",
    "\n",
    "    dataS1 = []\n",
    "    targetS1 = []\n",
    "    dataS2 = []\n",
    "    targetS2 = []\n",
    "    for i in range(len(S)):\n",
    "        if i in s2_indexes:\n",
    "            dataS2.append(S[i][0])\n",
    "            targetS2.append(S[i][1])\n",
    "        else:\n",
    "            dataS1.append(S[i][0])\n",
    "            targetS1.append(S[i][1])\n",
    "    return [dataS1, targetS1, dataS2, targetS2]\n",
    "\n",
    "#Tester sur Iris\n",
    "[dataS1, targetS1, dataS2, targetS2] = split(S)\n",
    "print(f\"dataS1 = {len(dataS1)}  targetS1 = {len(targetS1)}\")\n",
    "print(f\"dataS2 = {len(dataS2)}  targetS2 = {len(targetS2)}\")"
   ]
  },
  {
   "cell_type": "code",
   "execution_count": 52,
   "id": "41721388",
   "metadata": {},
   "outputs": [
    {
     "data": {
      "text/plain": [
       "0.36"
      ]
     },
     "execution_count": 52,
     "metadata": {},
     "output_type": "execute_result"
    }
   ],
   "source": [
    "def test(S, clf):\n",
    "    [dataS1, targetS1, dataS2, targetS2] = split(S)\n",
    "    clf.fit(dataS1, targetS1)\n",
    "    return 1-clf.score(dataS2, targetS2)\n",
    "\n",
    "test(S,nb)"
   ]
  },
  {
   "cell_type": "markdown",
   "id": "793b9a57",
   "metadata": {},
   "source": [
    "#### *Analyse:*\n",
    "L'erreur estimée est-elle plus petite que l'erreur apparente précédemment calculée ? Non, elle est plus supérieure\n",
    "\n",
    "Obtient-on toujours la même estimation pour l'erreur réelle ?\n",
    "Non, le résultat change à chaque exécution"
   ]
  },
  {
   "cell_type": "code",
   "execution_count": 54,
   "id": "9fc94da1",
   "metadata": {},
   "outputs": [
    {
     "name": "stdout",
     "output_type": "stream",
     "text": [
      "t = 10 | moyenne = 0.18\n",
      "t = 50 | moyenne = 0.24280000000000004\n",
      "t = 100 | moyenne = 0.20700000000000002\n",
      "t = 200 | moyenne = 0.21589999999999995\n",
      "t = 500 | moyenne = 0.2021600000000002\n",
      "t = 1000 | moyenne = 0.20288000000000017\n"
     ]
    }
   ],
   "source": [
    "def repeat_test(S,nb, t):\n",
    "    result = 0\n",
    "    for i in range(t):\n",
    "        result += test(S,nb)\n",
    "    return result / t\n",
    "\n",
    "for t in [10,50,100,200,500,1000]:\n",
    "    print(f\"t = {t} | moyenne = {repeat_test(S,nb, t)}\")"
   ]
  },
  {
   "cell_type": "code",
   "execution_count": 55,
   "id": "7b84e25d",
   "metadata": {},
   "outputs": [
    {
     "name": "stdout",
     "output_type": "stream",
     "text": [
      "t = 10 | 20 fois | moyenne = 0.21570000000000006\n",
      "t = 50 | 20 fois | moyenne = 0.20257999999999998\n",
      "t = 100 | 20 fois | moyenne = 0.2033599999999999\n",
      "t = 200 | 20 fois | moyenne = 0.20400999999999994\n",
      "t = 500 | 20 fois | moyenne = 0.20162600000000017\n",
      "t = 1000 | 20 fois | moyenne = 0.20245200000000022\n"
     ]
    }
   ],
   "source": [
    "for t in [10,50,100,200,500,1000]:\n",
    "    moy = 0\n",
    "    for i in range(20):\n",
    "        moy += repeat_test(S,nb, t)\n",
    "    print(f\"t = {t} | 20 fois | moyenne = {moy/20}\")"
   ]
  },
  {
   "cell_type": "markdown",
   "id": "d1a84ce1",
   "metadata": {},
   "source": [
    "#### *Analyse:*\n",
    "Est-ce que l'erreur moyenne est stable ou non?L'erreur moyenne est plus en plus stable\n",
    "\n",
    "Pouvez-vous interpréter ce résultat?Plus l'ensemble de données est grand, plus les taux d'erreur converge vers le taux réel d'erreur."
   ]
  },
  {
   "cell_type": "code",
   "execution_count": null,
   "id": "19225caa",
   "metadata": {},
   "outputs": [],
   "source": []
  }
 ],
 "metadata": {
  "kernelspec": {
   "display_name": "Python 3 (ipykernel)",
   "language": "python",
   "name": "python3"
  },
  "language_info": {
   "codemirror_mode": {
    "name": "ipython",
    "version": 3
   },
   "file_extension": ".py",
   "mimetype": "text/x-python",
   "name": "python",
   "nbconvert_exporter": "python",
   "pygments_lexer": "ipython3",
   "version": "3.7.11"
  }
 },
 "nbformat": 4,
 "nbformat_minor": 5
}
